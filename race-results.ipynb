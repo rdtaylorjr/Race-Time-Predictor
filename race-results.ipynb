{
 "cells": [
  {
   "cell_type": "markdown",
   "metadata": {},
   "source": [
    "## Import Race Results"
   ]
  },
  {
   "cell_type": "code",
   "execution_count": 357,
   "metadata": {},
   "outputs": [],
   "source": [
    "# Import tools\n",
    "\n",
    "import pandas as pd\n",
    "\n"
   ]
  },
  {
   "cell_type": "code",
   "execution_count": 578,
   "metadata": {},
   "outputs": [
    {
     "data": {
      "text/html": [
       "<div>\n",
       "<style scoped>\n",
       "    .dataframe tbody tr th:only-of-type {\n",
       "        vertical-align: middle;\n",
       "    }\n",
       "\n",
       "    .dataframe tbody tr th {\n",
       "        vertical-align: top;\n",
       "    }\n",
       "\n",
       "    .dataframe thead th {\n",
       "        text-align: right;\n",
       "    }\n",
       "</style>\n",
       "<table border=\"1\" class=\"dataframe\">\n",
       "  <thead>\n",
       "    <tr style=\"text-align: right;\">\n",
       "      <th></th>\n",
       "      <th>Race</th>\n",
       "      <th>Year</th>\n",
       "      <th>Cutoff</th>\n",
       "      <th>Place</th>\n",
       "      <th>First</th>\n",
       "      <th>Last</th>\n",
       "      <th>City</th>\n",
       "      <th>Location</th>\n",
       "      <th>Age</th>\n",
       "      <th>Gender</th>\n",
       "      <th>GP</th>\n",
       "      <th>Time</th>\n",
       "      <th>Rank</th>\n",
       "    </tr>\n",
       "  </thead>\n",
       "  <tbody>\n",
       "    <tr>\n",
       "      <th>0</th>\n",
       "      <td>Angeles Crest</td>\n",
       "      <td>2019</td>\n",
       "      <td>33</td>\n",
       "      <td>1</td>\n",
       "      <td>Ruperto</td>\n",
       "      <td>Romero</td>\n",
       "      <td>Huntington Park</td>\n",
       "      <td>CA</td>\n",
       "      <td>55</td>\n",
       "      <td>M</td>\n",
       "      <td>1</td>\n",
       "      <td>19:39:09</td>\n",
       "      <td>92.58</td>\n",
       "    </tr>\n",
       "    <tr>\n",
       "      <th>1</th>\n",
       "      <td>Angeles Crest</td>\n",
       "      <td>2019</td>\n",
       "      <td>33</td>\n",
       "      <td>2</td>\n",
       "      <td>Wyatt</td>\n",
       "      <td>Million</td>\n",
       "      <td>Santa Monica</td>\n",
       "      <td>CA</td>\n",
       "      <td>23</td>\n",
       "      <td>M</td>\n",
       "      <td>2</td>\n",
       "      <td>20:46:07</td>\n",
       "      <td>93.87</td>\n",
       "    </tr>\n",
       "    <tr>\n",
       "      <th>2</th>\n",
       "      <td>Angeles Crest</td>\n",
       "      <td>2019</td>\n",
       "      <td>33</td>\n",
       "      <td>3</td>\n",
       "      <td>Dominic</td>\n",
       "      <td>Grossman</td>\n",
       "      <td>Wrightwood</td>\n",
       "      <td>CA</td>\n",
       "      <td>32</td>\n",
       "      <td>M</td>\n",
       "      <td>3</td>\n",
       "      <td>21:18:01</td>\n",
       "      <td>89.34</td>\n",
       "    </tr>\n",
       "    <tr>\n",
       "      <th>3</th>\n",
       "      <td>Angeles Crest</td>\n",
       "      <td>2019</td>\n",
       "      <td>33</td>\n",
       "      <td>4</td>\n",
       "      <td>Jonas</td>\n",
       "      <td>Johansson</td>\n",
       "      <td>Jarfalla</td>\n",
       "      <td>NaN</td>\n",
       "      <td>40</td>\n",
       "      <td>M</td>\n",
       "      <td>4</td>\n",
       "      <td>21:43:32</td>\n",
       "      <td>86.36</td>\n",
       "    </tr>\n",
       "    <tr>\n",
       "      <th>4</th>\n",
       "      <td>Angeles Crest</td>\n",
       "      <td>2019</td>\n",
       "      <td>33</td>\n",
       "      <td>5</td>\n",
       "      <td>Eric</td>\n",
       "      <td>Earnshaw</td>\n",
       "      <td>Clovis</td>\n",
       "      <td>CA</td>\n",
       "      <td>40</td>\n",
       "      <td>M</td>\n",
       "      <td>5</td>\n",
       "      <td>22:28:48</td>\n",
       "      <td>88.64</td>\n",
       "    </tr>\n",
       "  </tbody>\n",
       "</table>\n",
       "</div>"
      ],
      "text/plain": [
       "            Race  Year Cutoff  Place    First       Last             City  \\\n",
       "0  Angeles Crest  2019     33      1  Ruperto     Romero  Huntington Park   \n",
       "1  Angeles Crest  2019     33      2    Wyatt    Million     Santa Monica   \n",
       "2  Angeles Crest  2019     33      3  Dominic   Grossman       Wrightwood   \n",
       "3  Angeles Crest  2019     33      4    Jonas  Johansson         Jarfalla   \n",
       "4  Angeles Crest  2019     33      5     Eric   Earnshaw           Clovis   \n",
       "\n",
       "  Location  Age Gender  GP      Time   Rank  \n",
       "0       CA   55      M   1  19:39:09  92.58  \n",
       "1       CA   23      M   2  20:46:07  93.87  \n",
       "2       CA   32      M   3  21:18:01  89.34  \n",
       "3      NaN   40      M   4  21:43:32  86.36  \n",
       "4       CA   40      M   5  22:28:48  88.64  "
      ]
     },
     "execution_count": 578,
     "metadata": {},
     "output_type": "execute_result"
    }
   ],
   "source": [
    "# Import data\n",
    "\n",
    "r1 = pd.read_csv(\"race_results/AngelesCrest.csv\")\n",
    "r2 = pd.read_csv(\"race_results/TheBear.csv\")\n",
    "r3 = pd.read_csv(\"race_results/CascadeCrest.csv\")\n",
    "r4 = pd.read_csv(\"race_results/HardRock.csv\")\n",
    "r5 = pd.read_csv(\"race_results/HURT.csv\")\n",
    "r6 = pd.read_csv(\"race_results/IMTUF.csv\")\n",
    "r7 = pd.read_csv(\"race_results/JavelinaJundred.csv\")\n",
    "r8 = pd.read_csv(\"race_results/KettleMoraine.csv\")\n",
    "r9 = pd.read_csv(\"race_results/OldDominion.csv\")\n",
    "r10 = pd.read_csv(\"race_results/OrcasIsland.csv\")\n",
    "r11 = pd.read_csv(\"race_results/RunRabbitRun.csv\")\n",
    "r12 = pd.read_csv(\"race_results/TunnelHill.csv\")\n",
    "r13 = pd.read_csv(\"race_results/WasatchFront.csv\")\n",
    "r14 = pd.read_csv(\"race_results/WesternStates.csv\")\n",
    "r15 = pd.read_csv(\"race_results/Yeti.csv\")\n",
    "\n",
    "race_results = pd.concat([r1, r2, r3, r4, r5, r6, r7, r8, r9, r10, r11, r12, r13, r14, r15], axis = 0)\n",
    "race_results.head()"
   ]
  },
  {
   "cell_type": "code",
   "execution_count": 579,
   "metadata": {},
   "outputs": [
    {
     "data": {
      "text/plain": [
       "11231"
      ]
     },
     "execution_count": 579,
     "metadata": {},
     "output_type": "execute_result"
    }
   ],
   "source": [
    "# Remove DNFs and DNSs\n",
    "race_results = race_results[race_results[\"Place\"] > 0]\n",
    "len(race_results)"
   ]
  },
  {
   "cell_type": "code",
   "execution_count": 565,
   "metadata": {},
   "outputs": [
    {
     "data": {
      "text/html": [
       "<div>\n",
       "<style scoped>\n",
       "    .dataframe tbody tr th:only-of-type {\n",
       "        vertical-align: middle;\n",
       "    }\n",
       "\n",
       "    .dataframe tbody tr th {\n",
       "        vertical-align: top;\n",
       "    }\n",
       "\n",
       "    .dataframe thead th {\n",
       "        text-align: right;\n",
       "    }\n",
       "</style>\n",
       "<table border=\"1\" class=\"dataframe\">\n",
       "  <thead>\n",
       "    <tr style=\"text-align: right;\">\n",
       "      <th></th>\n",
       "      <th>Cutoff</th>\n",
       "      <th>Age</th>\n",
       "      <th>Gender</th>\n",
       "      <th>Time</th>\n",
       "      <th>Rank</th>\n",
       "    </tr>\n",
       "  </thead>\n",
       "  <tbody>\n",
       "    <tr>\n",
       "      <th>0</th>\n",
       "      <td>33</td>\n",
       "      <td>55</td>\n",
       "      <td>M</td>\n",
       "      <td>19:39:09</td>\n",
       "      <td>92.58</td>\n",
       "    </tr>\n",
       "    <tr>\n",
       "      <th>1</th>\n",
       "      <td>33</td>\n",
       "      <td>23</td>\n",
       "      <td>M</td>\n",
       "      <td>20:46:07</td>\n",
       "      <td>93.87</td>\n",
       "    </tr>\n",
       "    <tr>\n",
       "      <th>2</th>\n",
       "      <td>33</td>\n",
       "      <td>32</td>\n",
       "      <td>M</td>\n",
       "      <td>21:18:01</td>\n",
       "      <td>89.34</td>\n",
       "    </tr>\n",
       "    <tr>\n",
       "      <th>3</th>\n",
       "      <td>33</td>\n",
       "      <td>40</td>\n",
       "      <td>M</td>\n",
       "      <td>21:43:32</td>\n",
       "      <td>86.36</td>\n",
       "    </tr>\n",
       "    <tr>\n",
       "      <th>4</th>\n",
       "      <td>33</td>\n",
       "      <td>40</td>\n",
       "      <td>M</td>\n",
       "      <td>22:28:48</td>\n",
       "      <td>88.64</td>\n",
       "    </tr>\n",
       "  </tbody>\n",
       "</table>\n",
       "</div>"
      ],
      "text/plain": [
       "  Cutoff  Age Gender      Time   Rank\n",
       "0     33   55      M  19:39:09  92.58\n",
       "1     33   23      M  20:46:07  93.87\n",
       "2     33   32      M  21:18:01  89.34\n",
       "3     33   40      M  21:43:32  86.36\n",
       "4     33   40      M  22:28:48  88.64"
      ]
     },
     "execution_count": 565,
     "metadata": {},
     "output_type": "execute_result"
    }
   ],
   "source": [
    "# Remove unneeded columns\n",
    "\n",
    "race_results.drop([\"Race\", \"Year\", \"First\", \"Last\", \"City\", \"Location\", \"Place\", \"GP\"], axis = 1, inplace = True)\n",
    "race_results.fillna(\"INTL\", inplace = True)\n",
    "race_results.head()"
   ]
  },
  {
   "cell_type": "code",
   "execution_count": 566,
   "metadata": {},
   "outputs": [
    {
     "data": {
      "text/html": [
       "<div>\n",
       "<style scoped>\n",
       "    .dataframe tbody tr th:only-of-type {\n",
       "        vertical-align: middle;\n",
       "    }\n",
       "\n",
       "    .dataframe tbody tr th {\n",
       "        vertical-align: top;\n",
       "    }\n",
       "\n",
       "    .dataframe thead th {\n",
       "        text-align: right;\n",
       "    }\n",
       "</style>\n",
       "<table border=\"1\" class=\"dataframe\">\n",
       "  <thead>\n",
       "    <tr style=\"text-align: right;\">\n",
       "      <th></th>\n",
       "      <th>Cutoff</th>\n",
       "      <th>Age</th>\n",
       "      <th>Gender</th>\n",
       "      <th>Rank</th>\n",
       "    </tr>\n",
       "  </thead>\n",
       "  <tbody>\n",
       "    <tr>\n",
       "      <th>32</th>\n",
       "      <td>30</td>\n",
       "      <td>52</td>\n",
       "      <td>M</td>\n",
       "      <td>75.62</td>\n",
       "    </tr>\n",
       "    <tr>\n",
       "      <th>416</th>\n",
       "      <td>30</td>\n",
       "      <td>61</td>\n",
       "      <td>M</td>\n",
       "      <td>81.79</td>\n",
       "    </tr>\n",
       "    <tr>\n",
       "      <th>991</th>\n",
       "      <td>36</td>\n",
       "      <td>31</td>\n",
       "      <td>M</td>\n",
       "      <td>79.00</td>\n",
       "    </tr>\n",
       "    <tr>\n",
       "      <th>175</th>\n",
       "      <td>36</td>\n",
       "      <td>28</td>\n",
       "      <td>M</td>\n",
       "      <td>76.56</td>\n",
       "    </tr>\n",
       "    <tr>\n",
       "      <th>259</th>\n",
       "      <td>48</td>\n",
       "      <td>38</td>\n",
       "      <td>F</td>\n",
       "      <td>73.13</td>\n",
       "    </tr>\n",
       "  </tbody>\n",
       "</table>\n",
       "</div>"
      ],
      "text/plain": [
       "    Cutoff  Age Gender   Rank\n",
       "32      30   52      M  75.62\n",
       "416     30   61      M  81.79\n",
       "991     36   31      M  79.00\n",
       "175     36   28      M  76.56\n",
       "259     48   38      F  73.13"
      ]
     },
     "execution_count": 566,
     "metadata": {},
     "output_type": "execute_result"
    }
   ],
   "source": [
    "# Split the data into features and labels\n",
    "\n",
    "np.random.seed(0)\n",
    "race_results_shuffled = race_results.sample(frac = 1)\n",
    "x = race_results_shuffled.drop(\"Time\", axis = 1)\n",
    "\n",
    "time = race_results_shuffled[\"Time\"]\n",
    "y = pd.to_timedelta(time).dt.total_seconds()"
   ]
  },
  {
   "cell_type": "code",
   "execution_count": 567,
   "metadata": {},
   "outputs": [
    {
     "data": {
      "text/plain": [
       "32      81533.0\n",
       "416     77255.0\n",
       "991     77388.0\n",
       "175    120993.0\n",
       "259    168558.0\n",
       "Name: Time, dtype: float64"
      ]
     },
     "execution_count": 567,
     "metadata": {},
     "output_type": "execute_result"
    }
   ],
   "source": []
  },
  {
   "cell_type": "code",
   "execution_count": 568,
   "metadata": {},
   "outputs": [
    {
     "data": {
      "text/plain": [
       "Cutoff     object\n",
       "Age         int64\n",
       "Gender     object\n",
       "Rank      float64\n",
       "dtype: object"
      ]
     },
     "execution_count": 568,
     "metadata": {},
     "output_type": "execute_result"
    }
   ],
   "source": [
    "# Convert non-numerical values to numerical values (feature encoding)\n",
    "\n",
    "x.dtypes"
   ]
  },
  {
   "cell_type": "code",
   "execution_count": 569,
   "metadata": {},
   "outputs": [
    {
     "data": {
      "text/html": [
       "<div>\n",
       "<style scoped>\n",
       "    .dataframe tbody tr th:only-of-type {\n",
       "        vertical-align: middle;\n",
       "    }\n",
       "\n",
       "    .dataframe tbody tr th {\n",
       "        vertical-align: top;\n",
       "    }\n",
       "\n",
       "    .dataframe thead th {\n",
       "        text-align: right;\n",
       "    }\n",
       "</style>\n",
       "<table border=\"1\" class=\"dataframe\">\n",
       "  <thead>\n",
       "    <tr style=\"text-align: right;\">\n",
       "      <th></th>\n",
       "      <th>0</th>\n",
       "      <th>1</th>\n",
       "      <th>2</th>\n",
       "      <th>3</th>\n",
       "      <th>4</th>\n",
       "      <th>5</th>\n",
       "    </tr>\n",
       "  </thead>\n",
       "  <tbody>\n",
       "    <tr>\n",
       "      <th>0</th>\n",
       "      <td>0</td>\n",
       "      <td>1</td>\n",
       "      <td>0</td>\n",
       "      <td>30</td>\n",
       "      <td>52</td>\n",
       "      <td>75.62</td>\n",
       "    </tr>\n",
       "    <tr>\n",
       "      <th>1</th>\n",
       "      <td>0</td>\n",
       "      <td>1</td>\n",
       "      <td>0</td>\n",
       "      <td>30</td>\n",
       "      <td>61</td>\n",
       "      <td>81.79</td>\n",
       "    </tr>\n",
       "    <tr>\n",
       "      <th>2</th>\n",
       "      <td>0</td>\n",
       "      <td>1</td>\n",
       "      <td>0</td>\n",
       "      <td>36</td>\n",
       "      <td>31</td>\n",
       "      <td>79</td>\n",
       "    </tr>\n",
       "    <tr>\n",
       "      <th>3</th>\n",
       "      <td>0</td>\n",
       "      <td>1</td>\n",
       "      <td>0</td>\n",
       "      <td>36</td>\n",
       "      <td>28</td>\n",
       "      <td>76.56</td>\n",
       "    </tr>\n",
       "    <tr>\n",
       "      <th>4</th>\n",
       "      <td>1</td>\n",
       "      <td>0</td>\n",
       "      <td>0</td>\n",
       "      <td>48</td>\n",
       "      <td>38</td>\n",
       "      <td>73.13</td>\n",
       "    </tr>\n",
       "    <tr>\n",
       "      <th>...</th>\n",
       "      <td>...</td>\n",
       "      <td>...</td>\n",
       "      <td>...</td>\n",
       "      <td>...</td>\n",
       "      <td>...</td>\n",
       "      <td>...</td>\n",
       "    </tr>\n",
       "    <tr>\n",
       "      <th>11226</th>\n",
       "      <td>0</td>\n",
       "      <td>1</td>\n",
       "      <td>0</td>\n",
       "      <td>30</td>\n",
       "      <td>33</td>\n",
       "      <td>67.59</td>\n",
       "    </tr>\n",
       "    <tr>\n",
       "      <th>11227</th>\n",
       "      <td>0</td>\n",
       "      <td>1</td>\n",
       "      <td>0</td>\n",
       "      <td>36</td>\n",
       "      <td>57</td>\n",
       "      <td>70.35</td>\n",
       "    </tr>\n",
       "    <tr>\n",
       "      <th>11228</th>\n",
       "      <td>0</td>\n",
       "      <td>1</td>\n",
       "      <td>0</td>\n",
       "      <td>30</td>\n",
       "      <td>39</td>\n",
       "      <td>57.77</td>\n",
       "    </tr>\n",
       "    <tr>\n",
       "      <th>11229</th>\n",
       "      <td>1</td>\n",
       "      <td>0</td>\n",
       "      <td>0</td>\n",
       "      <td>30</td>\n",
       "      <td>31</td>\n",
       "      <td>69.38</td>\n",
       "    </tr>\n",
       "    <tr>\n",
       "      <th>11230</th>\n",
       "      <td>0</td>\n",
       "      <td>1</td>\n",
       "      <td>0</td>\n",
       "      <td>48</td>\n",
       "      <td>26</td>\n",
       "      <td>72.13</td>\n",
       "    </tr>\n",
       "  </tbody>\n",
       "</table>\n",
       "<p>11231 rows × 6 columns</p>\n",
       "</div>"
      ],
      "text/plain": [
       "       0  1  2   3   4      5\n",
       "0      0  1  0  30  52  75.62\n",
       "1      0  1  0  30  61  81.79\n",
       "2      0  1  0  36  31     79\n",
       "3      0  1  0  36  28  76.56\n",
       "4      1  0  0  48  38  73.13\n",
       "...   .. .. ..  ..  ..    ...\n",
       "11226  0  1  0  30  33  67.59\n",
       "11227  0  1  0  36  57  70.35\n",
       "11228  0  1  0  30  39  57.77\n",
       "11229  1  0  0  30  31  69.38\n",
       "11230  0  1  0  48  26  72.13\n",
       "\n",
       "[11231 rows x 6 columns]"
      ]
     },
     "execution_count": 569,
     "metadata": {},
     "output_type": "execute_result"
    }
   ],
   "source": [
    "# Turn the categories into numbers\n",
    "\n",
    "from sklearn.preprocessing import OneHotEncoder\n",
    "from sklearn.compose import ColumnTransformer\n",
    "\n",
    "categorical_features = [\"Gender\"]\n",
    "one_hot = OneHotEncoder()\n",
    "transformer = ColumnTransformer([(\"one_hot\", one_hot, categorical_features)], remainder = \"passthrough\")\n",
    "x = transformer.fit_transform(x)\n",
    "pd.DataFrame(x)"
   ]
  },
  {
   "cell_type": "code",
   "execution_count": 570,
   "metadata": {},
   "outputs": [],
   "source": [
    "# Split the data into training and test sets\n",
    "\n",
    "from sklearn.model_selection import train_test_split\n",
    "x_train, x_test, y_train, y_test = train_test_split(x, y, test_size = 0.2)"
   ]
  },
  {
   "cell_type": "code",
   "execution_count": 571,
   "metadata": {},
   "outputs": [],
   "source": [
    "# from sklearn.linear_model import Ridge\n",
    "\n",
    "# model = Ridge()\n",
    "# model.fit(x_train, y_train)\n",
    "# model.score(x_test, y_test)"
   ]
  },
  {
   "cell_type": "code",
   "execution_count": 572,
   "metadata": {},
   "outputs": [],
   "source": [
    "# model.score(x_train, y_train)"
   ]
  },
  {
   "cell_type": "code",
   "execution_count": 573,
   "metadata": {},
   "outputs": [
    {
     "data": {
      "text/plain": [
       "0.6961528338216965"
      ]
     },
     "execution_count": 573,
     "metadata": {},
     "output_type": "execute_result"
    }
   ],
   "source": [
    "from sklearn.ensemble import RandomForestRegressor\n",
    "\n",
    "np.random.seed(0)\n",
    "\n",
    "model = RandomForestRegressor()\n",
    "model.fit(x_train, y_train)\n",
    "\n",
    "# Evaluation: r^2\n",
    "\n",
    "model.score(x_test, y_test)"
   ]
  },
  {
   "cell_type": "code",
   "execution_count": 574,
   "metadata": {},
   "outputs": [
    {
     "data": {
      "text/plain": [
       "0.9558365545834053"
      ]
     },
     "execution_count": 574,
     "metadata": {},
     "output_type": "execute_result"
    }
   ],
   "source": [
    "model.score(x_train, y_train)"
   ]
  },
  {
   "cell_type": "code",
   "execution_count": 575,
   "metadata": {},
   "outputs": [
    {
     "data": {
      "text/plain": [
       "Timedelta('0 days 02:12:47.816180876')"
      ]
     },
     "execution_count": 575,
     "metadata": {},
     "output_type": "execute_result"
    }
   ],
   "source": [
    "# Evaluation: Mean absolute error\n",
    "\n",
    "from sklearn.metrics import mean_absolute_error\n",
    "\n",
    "y_preds = model.predict(x_test)\n",
    "mae = mean_absolute_error(y_test, y_preds)\n",
    "\n",
    "pd.to_timedelta(mae, unit = \"s\")"
   ]
  },
  {
   "cell_type": "code",
   "execution_count": 576,
   "metadata": {},
   "outputs": [
    {
     "data": {
      "text/html": [
       "<div>\n",
       "<style scoped>\n",
       "    .dataframe tbody tr th:only-of-type {\n",
       "        vertical-align: middle;\n",
       "    }\n",
       "\n",
       "    .dataframe tbody tr th {\n",
       "        vertical-align: top;\n",
       "    }\n",
       "\n",
       "    .dataframe thead th {\n",
       "        text-align: right;\n",
       "    }\n",
       "</style>\n",
       "<table border=\"1\" class=\"dataframe\">\n",
       "  <thead>\n",
       "    <tr style=\"text-align: right;\">\n",
       "      <th></th>\n",
       "      <th>Predicted</th>\n",
       "      <th>Actual</th>\n",
       "      <th>Difference</th>\n",
       "    </tr>\n",
       "  </thead>\n",
       "  <tbody>\n",
       "    <tr>\n",
       "      <th>0</th>\n",
       "      <td>1 days 01:02:02</td>\n",
       "      <td>1 days 04:40:12</td>\n",
       "      <td>0 days 03:38:10</td>\n",
       "    </tr>\n",
       "    <tr>\n",
       "      <th>1</th>\n",
       "      <td>1 days 04:04:21</td>\n",
       "      <td>0 days 23:42:22</td>\n",
       "      <td>0 days 04:21:59</td>\n",
       "    </tr>\n",
       "    <tr>\n",
       "      <th>2</th>\n",
       "      <td>1 days 05:12:42</td>\n",
       "      <td>1 days 07:26:12</td>\n",
       "      <td>0 days 02:13:30</td>\n",
       "    </tr>\n",
       "    <tr>\n",
       "      <th>3</th>\n",
       "      <td>0 days 23:42:20</td>\n",
       "      <td>1 days 01:44:33</td>\n",
       "      <td>0 days 02:02:13</td>\n",
       "    </tr>\n",
       "    <tr>\n",
       "      <th>4</th>\n",
       "      <td>1 days 06:25:32</td>\n",
       "      <td>1 days 02:49:05</td>\n",
       "      <td>0 days 03:36:27</td>\n",
       "    </tr>\n",
       "    <tr>\n",
       "      <th>...</th>\n",
       "      <td>...</td>\n",
       "      <td>...</td>\n",
       "      <td>...</td>\n",
       "    </tr>\n",
       "    <tr>\n",
       "      <th>2242</th>\n",
       "      <td>1 days 07:32:06</td>\n",
       "      <td>1 days 10:06:58</td>\n",
       "      <td>0 days 02:34:52</td>\n",
       "    </tr>\n",
       "    <tr>\n",
       "      <th>2243</th>\n",
       "      <td>1 days 04:51:06</td>\n",
       "      <td>1 days 08:30:55</td>\n",
       "      <td>0 days 03:39:49</td>\n",
       "    </tr>\n",
       "    <tr>\n",
       "      <th>2244</th>\n",
       "      <td>1 days 01:47:07</td>\n",
       "      <td>0 days 23:05:27</td>\n",
       "      <td>0 days 02:41:40</td>\n",
       "    </tr>\n",
       "    <tr>\n",
       "      <th>2245</th>\n",
       "      <td>1 days 03:29:16</td>\n",
       "      <td>1 days 03:43:39</td>\n",
       "      <td>0 days 00:14:23</td>\n",
       "    </tr>\n",
       "    <tr>\n",
       "      <th>2246</th>\n",
       "      <td>1 days 05:06:47</td>\n",
       "      <td>1 days 03:52:04</td>\n",
       "      <td>0 days 01:14:43</td>\n",
       "    </tr>\n",
       "  </tbody>\n",
       "</table>\n",
       "<p>2247 rows × 3 columns</p>\n",
       "</div>"
      ],
      "text/plain": [
       "           Predicted          Actual      Difference\n",
       "0    1 days 01:02:02 1 days 04:40:12 0 days 03:38:10\n",
       "1    1 days 04:04:21 0 days 23:42:22 0 days 04:21:59\n",
       "2    1 days 05:12:42 1 days 07:26:12 0 days 02:13:30\n",
       "3    0 days 23:42:20 1 days 01:44:33 0 days 02:02:13\n",
       "4    1 days 06:25:32 1 days 02:49:05 0 days 03:36:27\n",
       "...              ...             ...             ...\n",
       "2242 1 days 07:32:06 1 days 10:06:58 0 days 02:34:52\n",
       "2243 1 days 04:51:06 1 days 08:30:55 0 days 03:39:49\n",
       "2244 1 days 01:47:07 0 days 23:05:27 0 days 02:41:40\n",
       "2245 1 days 03:29:16 1 days 03:43:39 0 days 00:14:23\n",
       "2246 1 days 05:06:47 1 days 03:52:04 0 days 01:14:43\n",
       "\n",
       "[2247 rows x 3 columns]"
      ]
     },
     "execution_count": 576,
     "metadata": {},
     "output_type": "execute_result"
    }
   ],
   "source": [
    "df = pd.DataFrame()\n",
    "df[\"Predicted\"] = pd.to_timedelta(y_preds.round(0), unit = \"s\")\n",
    "df[\"Actual\"] = pd.to_timedelta(np.array(y_test), unit = \"s\")\n",
    "df[\"Difference\"] = abs(df[\"Predicted\"] - df[\"Actual\"])\n",
    "df"
   ]
  },
  {
   "cell_type": "code",
   "execution_count": 577,
   "metadata": {},
   "outputs": [
    {
     "data": {
      "text/plain": [
       "{'bootstrap': True,\n",
       " 'ccp_alpha': 0.0,\n",
       " 'criterion': 'mse',\n",
       " 'max_depth': None,\n",
       " 'max_features': 'auto',\n",
       " 'max_leaf_nodes': None,\n",
       " 'max_samples': None,\n",
       " 'min_impurity_decrease': 0.0,\n",
       " 'min_impurity_split': None,\n",
       " 'min_samples_leaf': 1,\n",
       " 'min_samples_split': 2,\n",
       " 'min_weight_fraction_leaf': 0.0,\n",
       " 'n_estimators': 100,\n",
       " 'n_jobs': None,\n",
       " 'oob_score': False,\n",
       " 'random_state': None,\n",
       " 'verbose': 0,\n",
       " 'warm_start': False}"
      ]
     },
     "execution_count": 577,
     "metadata": {},
     "output_type": "execute_result"
    }
   ],
   "source": [
    "model.get_params()"
   ]
  },
  {
   "cell_type": "code",
   "execution_count": null,
   "metadata": {},
   "outputs": [],
   "source": []
  },
  {
   "cell_type": "code",
   "execution_count": null,
   "metadata": {},
   "outputs": [],
   "source": []
  },
  {
   "cell_type": "code",
   "execution_count": null,
   "metadata": {},
   "outputs": [],
   "source": []
  },
  {
   "cell_type": "code",
   "execution_count": null,
   "metadata": {},
   "outputs": [],
   "source": []
  },
  {
   "cell_type": "code",
   "execution_count": null,
   "metadata": {},
   "outputs": [],
   "source": []
  }
 ],
 "metadata": {
  "kernelspec": {
   "display_name": "Python 3",
   "language": "python",
   "name": "python3"
  },
  "language_info": {
   "codemirror_mode": {
    "name": "ipython",
    "version": 3
   },
   "file_extension": ".py",
   "mimetype": "text/x-python",
   "name": "python",
   "nbconvert_exporter": "python",
   "pygments_lexer": "ipython3",
   "version": "3.8.5"
  }
 },
 "nbformat": 4,
 "nbformat_minor": 4
}
